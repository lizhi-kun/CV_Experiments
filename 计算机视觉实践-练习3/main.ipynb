{
 "cells": [
  {
   "cell_type": "code",
   "execution_count": null,
   "id": "05524143",
   "metadata": {},
   "outputs": [],
   "source": [
    "import cv2\n",
    "import os\n",
    "\n",
    "def evaluate(upsampled, orig):\n",
    "    psnr = cv2.PSNR(upsampled, orig)\n",
    "    q, _ = cv2.quality.QualitySSIM_compute(upsampled, orig)\n",
    "    ssim = (q[0] + q[1] + q[2]) / 3\n",
    "    return round(psnr, 3), round(ssim, 3)\n",
    "\n",
    "def upsample(img, alg_name, scale):\n",
    "    # 创建SR对象\n",
    "    sr = cv2.dnn_superres.DnnSuperResImpl_create()\n",
    "    # 加载model\n",
    "    path = \"./model/LapSRN_x4.pb\"\n",
    "    sr.readModel(path)\n",
    "    sr.setModel(alg_name, scale)\n",
    "    # 下采样\n",
    "    result = sr.upsample(img)\n",
    "    return result\n",
    "\n",
    "if __name__ == \"__main__\":\n",
    "    # 输入图像\n",
    "    img_path = \"./set5/baby.png\"\n",
    "    # 放大系数\n",
    "    scale = 4\n",
    "    # model\n",
    "    model = \"./model/LapSRN_x4.pb\"\n",
    "    # 裁剪\n",
    "    img = cv2.imread(img_path)\n",
    "    width = img.shape[0] - (img.shape[0] % scale)\n",
    "    height = img.shape[1] - (img.shape[1] % scale)\n",
    "    cropped = img[0:width, 0:height]\n",
    "    # Downscale the image for benchmarking\n",
    "    # 缩小图像，以实现基准质量测试\n",
    "    img_downscaled = cv2.resize(cropped, None, fx=1.0 / scale, fy=1.0 / scale)\n",
    "    img_new = upsample(img_downscaled, scale)\n",
    "\n",
    "    # 创建文件夹保存处理后的图像\n",
    "    output_folder = f\"./output\"\n",
    "    os.makedirs(output_folder, exist_ok=True)\n",
    "\n",
    "    # 模型质量评估值\n",
    "    psnr, ssim = evaluate(cropped, img_new)\n",
    "    print(\"LapSRN超分辨率算法和不同差值的性能对比\")\n",
    "    print(f\"PSNT:{psnr}, SSIM:{ssim}\")\n",
    "\n",
    "    # 保存超分辨率处理结果\n",
    "    cv2.imwrite(f\"{output_folder}/upscaled_image.png\", img_new)\n"
   ]
  }
 ],
 "metadata": {
  "kernelspec": {
   "display_name": "mindspore",
   "language": "python",
   "name": "mindspore"
  },
  "language_info": {
   "codemirror_mode": {
    "name": "ipython",
    "version": 3
   },
   "file_extension": ".py",
   "mimetype": "text/x-python",
   "name": "python",
   "nbconvert_exporter": "python",
   "pygments_lexer": "ipython3",
   "version": "3.9.19"
  }
 },
 "nbformat": 4,
 "nbformat_minor": 5
}
