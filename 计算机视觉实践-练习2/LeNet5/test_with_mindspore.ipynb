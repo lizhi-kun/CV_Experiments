{
 "cells": [
  {
   "cell_type": "code",
   "execution_count": null,
   "id": "53e1d9ab",
   "metadata": {},
   "outputs": [],
   "source": [
    "import mindspore\n",
    "from mindspore.dataset import transforms\n",
    "from mindspore.dataset import vision\n",
    "\n",
    "from matplotlib import pyplot as plt\n",
    "\n",
    "import cv2\n",
    "from lenet5 import LeNet\n",
    "def test_model(path):\n",
    "    param_dict = mindspore.load_checkpoint('./model/mnist_model.ckpt')  # 加载模型\n",
    "    model = LeNet()\n",
    "    mindspore.load_param_into_net(model, param_dict)\n",
    "    model.set_train(False)  \n",
    "    # 读取图片\n",
    "    img = cv2.imread(\"./2.jpg\")\n",
    "    img = cv2.resize(img, dsize=(32, 32), interpolation=cv2.INTER_NEAREST)\n",
    "    plt.imshow(img, cmap=\"gray\")  \n",
    "    plt.show()\n",
    "    trans = transforms.Compose(\n",
    "        [\n",
    "            vision.ToTensor(),\n",
    "            vision.Normalize((0.1307,), (0.3081,), is_hwc=False),\n",
    "        ])\n",
    "    # 图片转为灰度图\n",
    "    img = cv2.cvtColor(img, cv2.COLOR_BGR2GRAY)  \n",
    "    img = trans(img)\n",
    "    img = mindspore.tensor(img)\n",
    "    img = img.unsqueeze(0)  \n",
    "    print(img.shape)\n",
    "\n",
    "    # 预测\n",
    "    output = model(img)\n",
    "    predict = output.argmax(axis=1)\n",
    "    print(\"该图片类别为类别：\", predict.item())\n",
    "\n",
    "if __name__ == '__main__':\n",
    "    test_model('./model/mnist_model.ckpt')"
   ]
  }
 ],
 "metadata": {
  "kernelspec": {
   "display_name": "mindspore",
   "language": "python",
   "name": "mindspore"
  },
  "language_info": {
   "codemirror_mode": {
    "name": "ipython",
    "version": 3
   },
   "file_extension": ".py",
   "mimetype": "text/x-python",
   "name": "python",
   "nbconvert_exporter": "python",
   "pygments_lexer": "ipython3",
   "version": "3.9.19"
  }
 },
 "nbformat": 4,
 "nbformat_minor": 5
}
