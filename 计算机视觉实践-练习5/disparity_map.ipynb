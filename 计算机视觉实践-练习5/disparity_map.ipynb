{
 "cells": [
  {
   "cell_type": "code",
   "execution_count": null,
   "id": "4650b7a2",
   "metadata": {},
   "outputs": [],
   "source": [
    "import cv2\n",
    "import numpy as np\n",
    "\n",
    "# 视差图计算\n",
    "def disparity(left_image_path, right_image_path):\n",
    "    # 读取=图像\n",
    "    left = cv2.imread(left_image_path, cv2.IMREAD_GRAYSCALE)\n",
    "    right = cv2.imread(right_image_path, cv2.IMREAD_GRAYSCALE)\n",
    "\n",
    "    # 创建SGBM   \n",
    "    window_size = 9\n",
    "    min_disp = 0\n",
    "    num_disp = 112 - min_disp\n",
    "    stereo = cv2.StereoSGBM_create(\n",
    "        minDisparity=min_disp,\n",
    "        numDisparities=num_disp,\n",
    "        blockSize=8,\n",
    "        P1=8 * 3 * window_size ** 2,\n",
    "        P2=32 * 3 * window_size ** 2,\n",
    "        disp12MaxDiff=1,\n",
    "        uniquenessRatio=10,\n",
    "        speckleWindowSize=100,\n",
    "        speckleRange=32,\n",
    "        mode=cv2.STEREO_SGBM_MODE_HH  \n",
    "    )\n",
    "\n",
    "    # 计算视差图\n",
    "    disparity = stereo.compute(left, right).astype(np.float32) / 16.0\n",
    "\n",
    "    # 转为灰度\n",
    "    res = cv2.normalize(disparity, None, alpha=0, beta=255, norm_type=cv2.NORM_MINMAX, dtype=cv2.CV_8U)\n",
    "\n",
    "    return res\n",
    "\n",
    "\n",
    "if __name__ == \"__main__\":\n",
    "    left_image_path = './left.png'  # 路径可修改\n",
    "    right_image_path = './right.png'\n",
    "    res = disparity(left_image_path, right_image_path)\n",
    "    # 保存\n",
    "    cv2.imwrite('./res.jpg', res)  # 保存； 路径可修改\n",
    "        "
   ]
  }
 ],
 "metadata": {
  "kernelspec": {
   "display_name": "Python 3 (ipykernel)",
   "language": "python",
   "name": "python3"
  },
  "language_info": {
   "codemirror_mode": {
    "name": "ipython",
    "version": 3
   },
   "file_extension": ".py",
   "mimetype": "text/x-python",
   "name": "python",
   "nbconvert_exporter": "python",
   "pygments_lexer": "ipython3",
   "version": "3.11.5"
  }
 },
 "nbformat": 4,
 "nbformat_minor": 5
}
